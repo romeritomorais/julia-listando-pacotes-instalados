{
 "cells": [
  {
   "cell_type": "markdown",
   "metadata": {},
   "source": [
    "# Listando Pacotes Instalados"
   ]
  },
  {
   "cell_type": "code",
   "execution_count": 1,
   "metadata": {
    "scrolled": false
   },
   "outputs": [],
   "source": [
    "if Sys.iswindows() == \"true\"\n",
    "    path_windows = joinpath(homedir(), \".julia\\\\environments\\\\v1.3\")\n",
    "    cd(path_windows)\n",
    "else \n",
    "    path_linux = joinpath(homedir(), \".julia/environments/v1.3\")\n",
    "    cd(path_linux)\n",
    "end\n",
    "\n",
    "pacotes_instalados = [split(i,\" \")[1] for i in readlines(\"Project.toml\")]\n",
    "path = \"Dropbox/conect/Julia/Packages/\";"
   ]
  },
  {
   "cell_type": "code",
   "execution_count": 2,
   "metadata": {},
   "outputs": [
    {
     "name": "stdout",
     "output_type": "stream",
     "text": [
      "lista com 29 pacotes Instalados no Linux_x86_64\n",
      "--------------------------------------------\n",
      "2020-02-25 01:46:55 - [deps]\n",
      "2020-02-25 01:46:56 - BenchmarkTools \n",
      "2020-02-25 01:46:56 - CSV \n",
      "2020-02-25 01:46:56 - Conda \n",
      "2020-02-25 01:46:56 - DataFrames \n",
      "2020-02-25 01:46:56 - DataValues \n",
      "2020-02-25 01:46:56 - DataVoyager \n",
      "2020-02-25 01:46:56 - Dates \n",
      "2020-02-25 01:46:56 - ExcelFiles \n",
      "2020-02-25 01:46:56 - Flux \n",
      "2020-02-25 01:46:56 - Hwloc \n",
      "2020-02-25 01:46:56 - IJulia \n",
      "2020-02-25 01:46:56 - IndexedTables \n",
      "2020-02-25 01:46:56 - Interact \n",
      "2020-02-25 01:46:56 - JavaCall \n",
      "2020-02-25 01:46:56 - JuliaAcademyData \n",
      "2020-02-25 01:46:56 - JuliaDB \n",
      "2020-02-25 01:46:56 - JuliaDBMeta \n",
      "2020-02-25 01:46:56 - LinearAlgebra \n",
      "2020-02-25 01:46:56 - OnlineStats \n",
      "2020-02-25 01:46:56 - Plots \n",
      "2020-02-25 01:46:56 - PyCall \n",
      "2020-02-25 01:46:56 - Spark \n",
      "2020-02-25 01:46:56 - SparseRegression \n",
      "2020-02-25 01:46:56 - StatPlots \n",
      "2020-02-25 01:46:56 - Statistics \n",
      "2020-02-25 01:46:56 - StatsPlots \n",
      "2020-02-25 01:46:56 - Taro \n",
      "2020-02-25 01:46:56 - VegaDatasets \n",
      "2020-02-25 01:46:56 - WebIO \n"
     ]
    }
   ],
   "source": [
    "using Dates\n",
    "path_file = joinpath(homedir(), path,\"Packages.txt\")\n",
    "\n",
    "open(path_file, \"w\") do t\n",
    "    for i in readlines(\"Project.toml\")\n",
    "        x = split(i,\"=\")[1]\n",
    "        insert = x\n",
    "        write(t, Dates.format(DateTime(Dates.now()), \"yyyy-mm-dd HH:MM:SS - \") * insert,\"\\n\")\n",
    "        end;\n",
    "    end;\n",
    "\n",
    "println(\"lista com \" *string(length(readlines(\"Project.toml\"))-1) * \" pacotes Instalados no \" \n",
    "        * string(Sys.KERNEL)*\"_\"*string(Sys.ARCH))\n",
    "println(repeat(\"-----------\", 4))\n",
    "\n",
    "for i in readlines(path_file)\n",
    "    println(i)\n",
    "end;"
   ]
  },
  {
   "cell_type": "code",
   "execution_count": null,
   "metadata": {},
   "outputs": [],
   "source": []
  }
 ],
 "metadata": {
  "kernelspec": {
   "display_name": "Julia 1.3.1",
   "language": "julia",
   "name": "julia-1.3"
  },
  "language_info": {
   "file_extension": ".jl",
   "mimetype": "application/julia",
   "name": "julia",
   "version": "1.3.1"
  }
 },
 "nbformat": 4,
 "nbformat_minor": 4
}
